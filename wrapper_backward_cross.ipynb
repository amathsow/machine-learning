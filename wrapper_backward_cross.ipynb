{
 "cells": [
  {
   "cell_type": "code",
   "execution_count": 428,
   "metadata": {},
   "outputs": [],
   "source": [
    "import pandas as pd\n",
    "import numpy as np\n",
    "from sklearn import metrics\n",
    "from sklearn import datasets\n",
    "from sklearn.linear_model import LogisticRegression\n",
    "from sklearn.model_selection import train_test_split\n",
    "from sklearn.metrics import  accuracy_score\n",
    "from sklearn.datasets import load_iris\n",
    "from itertools import combinations"
   ]
  },
  {
   "cell_type": "code",
   "execution_count": 429,
   "metadata": {},
   "outputs": [],
   "source": [
    "iris = datasets.load_iris()\n",
    "X1=iris.data\n",
    "y1=iris.target\n",
    "data= pd.DataFrame(iris.data)\n",
    "data.columns = iris.feature_names\n",
    "data['class'] = iris.target\n",
    "\n",
    "# import warnings filter\n",
    "from warnings import simplefilter\n",
    "# ignore all future warnings\n",
    "simplefilter(action='ignore', category=FutureWarning)"
   ]
  },
  {
   "cell_type": "code",
   "execution_count": 430,
   "metadata": {},
   "outputs": [],
   "source": [
    "data = load_iris()"
   ]
  },
  {
   "cell_type": "code",
   "execution_count": 431,
   "metadata": {},
   "outputs": [
    {
     "data": {
      "text/plain": [
       "['sepal length (cm)',\n",
       " 'sepal width (cm)',\n",
       " 'petal length (cm)',\n",
       " 'petal width (cm)']"
      ]
     },
     "execution_count": 431,
     "metadata": {},
     "output_type": "execute_result"
    }
   ],
   "source": [
    "data['feature_names']"
   ]
  },
  {
   "cell_type": "code",
   "execution_count": 437,
   "metadata": {},
   "outputs": [],
   "source": [
    "\n",
    "\n",
    "class logisticregression():\n",
    "    def __init__(self,train_data,train_labels,lr=0.01,batch_size=None,epoch=10,print_every = 10):\n",
    "        dummy_once = np.ones((len(train_data),1))\n",
    "        self.train_data = np.hstack((dummy_once,train_data))\n",
    "        self.train_labels = train_labels\n",
    "        \n",
    "        self.params = np.zeros((len(self.train_data[0]),1))\n",
    "        \n",
    "        self.lr = lr\n",
    "        self.epoch = epoch\n",
    "        self.batch_size = batch_size\n",
    "        self.print_every = print_every\n",
    "        \n",
    "    def sigmoid(self,x):\n",
    "        return 1/(1+np.exp(-x))\n",
    "    \n",
    "    def cost(self,y,y_pred):\n",
    "        return -np.mean(y*np.log(y_pred)+(1-y)*np.log(1-y_pred))\n",
    "    \n",
    "    def gradient(self,y,y_pred,x):\n",
    "        return np.dot(x.T,(y_pred-y))\n",
    "    \n",
    "    def train(self):\n",
    "        for i in range(self.epoch):\n",
    "            y_pred = self.sigmoid(np.dot(self.train_data,self.params))\n",
    "            loss = self.cost(self.train_labels,y_pred)\n",
    "            \n",
    "            gra = self.gradient(self.train_labels,y_pred,self.train_data)\n",
    "            \n",
    "            self.params -= self.lr*gra\n",
    "            \n",
    "            if self.print_every:\n",
    "                if i%self.print_every == 0 or i == self.epoch-1:\n",
    "                    print('Epoch : {}  Loss: {}'.format(i,loss))\n",
    "    def predict(self,test_data):\n",
    "        result = self.sigmoid(np.dot(test_data,self.params[1:])+self.params[0])\n",
    "        result[result >= 0.5 ] = 1\n",
    "        result[result < 0.5 ] = 0\n",
    "        return result\n",
    "    \n",
    "    def evaluate(self,test_data,labels):\n",
    "        accuracy = accuracy_score(self.predict(test_data),labels)\n",
    "        return accuracy\n"
   ]
  },
  {
   "cell_type": "code",
   "execution_count": 438,
   "metadata": {},
   "outputs": [],
   "source": [
    "def get_combinations(items,number):\n",
    "    comb_list = []\n",
    "    for c in combinations(items, number):\n",
    "        c = list(c)\n",
    "        c.sort()\n",
    "        comb_list.append(c)\n",
    "        \n",
    "    return comb_list"
   ]
  },
  {
   "cell_type": "code",
   "execution_count": 439,
   "metadata": {},
   "outputs": [],
   "source": [
    "def wrapper_helper(data,feature_names,target_name,train_size = 0.6,test_size = 0.4):\n",
    "    dataset = data['data'].copy()\n",
    "    target = data['target'].reshape(-1,1)\n",
    "    \n",
    "    final_data = np.hstack((dataset,target))\n",
    "    np.random.shuffle(final_data)\n",
    "    \n",
    "    pd_data = pd.DataFrame(final_data)\n",
    "    pd_data.columns= ['sepal length (cm)','sepal width (cm)','petal length (cm)','petal width (cm)','target']\n",
    "    pd_data = pd_data[(pd_data['target']==0) | (pd_data['target']==1)]\n",
    "    pd_data.tail(2)\n",
    "    \n",
    "\n",
    "    col_names = np.concatenate((feature_names,target_name),axis=None)\n",
    "    final_data = pd_data[col_names].values\n",
    "\n",
    "    train_data = final_data[:int(len(final_data)*train_size)]\n",
    "    test_data = final_data[int(len(final_data)*train_size):]\n",
    "    \n",
    "    \n",
    "\n",
    "    train_data.shape,test_data.shape \n",
    "    \n",
    "    X_train = train_data[:,:-1]\n",
    "    y_train = train_data[:,-1:]\n",
    "\n",
    "\n",
    "    X_test = test_data[:,:-1]\n",
    "    y_test = test_data[:,-1:]\n",
    "\n",
    "\n",
    "    return X_train,y_train,X_test,y_test"
   ]
  },
  {
   "cell_type": "code",
   "execution_count": 440,
   "metadata": {},
   "outputs": [],
   "source": [
    "def wrapper_method(data,names,k=2):\n",
    "    classes = get_combinations(names,k)\n",
    "    wrapper_output = {}\n",
    "    \n",
    "    for i in classes:\n",
    "        X_train,y_train,X_test,y_test = wrapper_helper(data,i,['target'])\n",
    "        \n",
    "        logistic = logisticregression(X_train,y_train,epoch=10,print_every=None)\n",
    "        logistic.train()\n",
    "        \n",
    "        result = logistic.evaluate(X_test,y_test)\n",
    "        wrapper_output[str(i)] = result\n",
    "            \n",
    "    return wrapper_output"
   ]
  },
  {
   "cell_type": "code",
   "execution_count": 442,
   "metadata": {},
   "outputs": [
    {
     "data": {
      "text/plain": [
       "{\"['sepal length (cm)', 'sepal width (cm)']\": 0.575,\n",
       " \"['petal length (cm)', 'sepal length (cm)']\": 0.9,\n",
       " \"['petal width (cm)', 'sepal length (cm)']\": 0.45,\n",
       " \"['petal length (cm)', 'sepal width (cm)']\": 1.0,\n",
       " \"['petal width (cm)', 'sepal width (cm)']\": 1.0,\n",
       " \"['petal length (cm)', 'petal width (cm)']\": 0.95}"
      ]
     },
     "execution_count": 442,
     "metadata": {},
     "output_type": "execute_result"
    }
   ],
   "source": [
    "wrapper_method(data,data['feature_names'],2)"
   ]
  },
  {
   "cell_type": "code",
   "execution_count": null,
   "metadata": {},
   "outputs": [],
   "source": []
  }
 ],
 "metadata": {
  "kernelspec": {
   "display_name": "Python 3",
   "language": "python",
   "name": "python3"
  },
  "language_info": {
   "codemirror_mode": {
    "name": "ipython",
    "version": 3
   },
   "file_extension": ".py",
   "mimetype": "text/x-python",
   "name": "python",
   "nbconvert_exporter": "python",
   "pygments_lexer": "ipython3",
   "version": "3.7.3"
  }
 },
 "nbformat": 4,
 "nbformat_minor": 2
}
